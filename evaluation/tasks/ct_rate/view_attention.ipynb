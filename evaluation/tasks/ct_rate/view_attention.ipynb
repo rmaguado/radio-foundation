{
 "cells": [
  {
   "cell_type": "code",
   "execution_count": null,
   "metadata": {},
   "outputs": [],
   "source": [
    "import os\n",
    "import torch\n",
    "import pandas as pd\n",
    "import numpy as np\n",
    "from dotenv import load_dotenv\n",
    "import matplotlib.pyplot as plt\n",
    "\n",
    "from typing import List, Dict, Tuple\n",
    "\n",
    "from evaluation.utils.networks import FullScanPatchPredictor\n",
    "from evaluation.extended_datasets import CachedEmbeddings\n",
    "from evaluation.tasks.ct_rate.datasets import CT_RATE\n",
    "from evaluation.utils.dataset import collate_sequences"
   ]
  },
  {
   "cell_type": "code",
   "execution_count": null,
   "metadata": {},
   "outputs": [],
   "source": [
    "load_dotenv()\n",
    "project_path = os.getenv(\"PROJECTPATH\")\n",
    "data_path = os.getenv(\"DATAPATH\")\n",
    "device = torch.device(\"cuda\")\n",
    "\n",
    "experiment_name = \"test_cardiomegaly_cls\"\n",
    "label = \"Cardiomegaly\"\n",
    "model_path = os.path.join(project_path, \"runs\", experiment_name, \"results\", label, \"models/model.pth\")"
   ]
  },
  {
   "cell_type": "code",
   "execution_count": null,
   "metadata": {},
   "outputs": [],
   "source": [
    "embed_dim = 768\n",
    "hidden_dim = 512\n",
    "patch_resample_dim = 16\n",
    "\n",
    "classifier_model = FullScanPatchPredictor(\n",
    "    embed_dim,\n",
    "    hidden_dim,\n",
    "    num_labels=1,\n",
    "    patch_resample_dim=patch_resample_dim,\n",
    ")\n",
    "classifier_model.load_state_dict(torch.load(model_path, map_location=device))\n",
    "classifier_model.to(device)"
   ]
  },
  {
   "cell_type": "code",
   "execution_count": null,
   "metadata": {},
   "outputs": [],
   "source": [
    "run_name = \"base10pat\"\n",
    "checkpoint_name = \"training_99999\"\n",
    "\n",
    "batch_size = 1\n",
    "num_workers = 4\n",
    "\n",
    "embeddings_path = os.path.join(\n",
    "    project_path,\n",
    "    \"evaluation/cache/CT-RATE_valid_eval\",\n",
    "    run_name,\n",
    "    checkpoint_name,\n",
    ")\n",
    "\n",
    "embeddings_provider = CachedEmbeddings(\n",
    "    embeddings_path, select_feature=\"patch\"\n",
    ")\n",
    "\n",
    "metadata_path = os.path.join(\n",
    "    data_path, \"niftis/CT-RATE/multi_abnormality_labels/valid_predicted_labels.csv\"\n",
    ")\n",
    "\n",
    "embeddings_dataset = CT_RATE(\n",
    "    embeddings_provider,\n",
    "    metadata_path,\n",
    "    label,\n",
    ")\n",
    "\n",
    "dataloader = torch.utils.data.DataLoader(\n",
    "    embeddings_dataset,\n",
    "    batch_size=batch_size,\n",
    "    num_workers=num_workers,\n",
    "    collate_fn=collate_sequences,\n",
    "    shuffle=False,\n",
    "    pin_memory=True,\n",
    ")"
   ]
  },
  {
   "cell_type": "code",
   "execution_count": null,
   "metadata": {},
   "outputs": [],
   "source": [
    "from evaluation.utils.finetune import get_config, ImageTransformResampleSlices\n",
    "from evaluation.extended_datasets import NiftiFullVolumeEval\n",
    "\n",
    "path_to_run = os.path.join(project_path, \"runs\", run_name)\n",
    "\n",
    "config = get_config(path_to_run)\n",
    "full_image_size = config.student.full_image_size\n",
    "data_mean = -573.8\n",
    "data_std = 461.3\n",
    "channels = config.student.channels\n",
    "\n",
    "img_processor = ImageTransformResampleSlices(\n",
    "    full_image_size, data_mean, data_std, channels=channels\n",
    ")\n",
    "\n",
    "db_params = {\n",
    "        \"root_path\": os.path.join(data_path, \"niftis/CT-RATE\"),\n",
    "        \"dataset_name\": \"CT-RATE_valid_eval\",\n",
    "        \"channels\": channels,\n",
    "        \"transform\": img_processor,\n",
    "    }\n",
    "\n",
    "image_dataset = NiftiFullVolumeEval(**db_params)\n",
    "\n",
    "def get_image_from_map_id(map_id: str) -> Tuple[np.ndarray, Dict[str, str]]:\n",
    "    \"\"\"\n",
    "    Get the image and metadata from the map_id.\n",
    "    \"\"\"\n",
    "    dataset_index = image_dataset.get_index_from_map_id(map_id)\n",
    "    image, _ = image_dataset[dataset_index]\n",
    "    return image"
   ]
  },
  {
   "cell_type": "code",
   "execution_count": null,
   "metadata": {},
   "outputs": [],
   "source": [
    "dataloader_iterator = iter(dataloader)\n",
    "    \n",
    "map_ids, embeddings, mask, labels = next(dataloader_iterator)\n",
    "\n",
    "embeddings = embeddings.to(device)\n",
    "mask = mask.to(device)\n",
    "with torch.no_grad():\n",
    "    logits, attention_map = classifier_model(embeddings, mask=mask)\n",
    "\n",
    "map_id = map_ids[0]\n",
    "logits = logits.cpu().flatten().numpy()[0]\n",
    "labels = labels.float().flatten().numpy()[0]\n",
    "attention_maps_cpu = attention_map.cpu().numpy()[0]\n",
    "image = get_image_from_map_id(map_id).numpy()\n",
    "\n",
    "print(f\"Map ID: {map_id}\")\n",
    "print(f\"Logit: {logits}\")\n",
    "print(f\"Label: {labels}\")\n",
    "print(f\"Attention map shape: {attention_maps_cpu.shape}\")\n",
    "print(f\"Image shape: {image.shape}\")"
   ]
  },
  {
   "cell_type": "code",
   "execution_count": null,
   "metadata": {},
   "outputs": [],
   "source": []
  }
 ],
 "metadata": {
  "kernelspec": {
   "display_name": "dino2",
   "language": "python",
   "name": "python3"
  },
  "language_info": {
   "codemirror_mode": {
    "name": "ipython",
    "version": 3
   },
   "file_extension": ".py",
   "mimetype": "text/x-python",
   "name": "python",
   "nbconvert_exporter": "python",
   "pygments_lexer": "ipython3",
   "version": "3.10.16"
  }
 },
 "nbformat": 4,
 "nbformat_minor": 2
}
