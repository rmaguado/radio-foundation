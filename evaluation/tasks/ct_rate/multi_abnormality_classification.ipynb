{
 "cells": [
  {
   "cell_type": "code",
   "execution_count": null,
   "id": "45fb121a-b1df-4b5b-a34f-fd3ac544ab5c",
   "metadata": {
    "editable": true,
    "slideshow": {
     "slide_type": ""
    },
    "tags": []
   },
   "outputs": [],
   "source": [
    "%cd ../../..\n",
    "import warnings\n",
    "\n",
    "warnings.filterwarnings(\"ignore\")\n",
    "\n",
    "import numpy as np\n",
    "import random\n",
    "import os\n",
    "import torch\n",
    "from dotenv import load_dotenv\n",
    "\n",
    "from evaluation.utils.networks import FullScanClassPredictor, FullScanPatchPredictor\n",
    "\n",
    "from evaluation.extended_datasets import CachedEmbeddings, EmbeddingsGenerator\n",
    "from evaluation.tasks.ct_rate.datasets import CT_RATE\n",
    "\n",
    "from evaluation.utils.dataset import BalancedSampler, split_dataset, collate_sequences\n",
    "from evaluation.utils.train import train, evaluate\n",
    "\n",
    "np.random.seed(42)\n",
    "random.seed(42)"
   ]
  },
  {
   "cell_type": "code",
   "execution_count": null,
   "id": "7535502a",
   "metadata": {},
   "outputs": [],
   "source": [
    "load_dotenv()\n",
    "project_path = os.getenv(\"PROJECTPATH\")\n",
    "data_path = os.getenv(\"DATAPATH\")\n",
    "\n",
    "run_name = \"vitb_CT-RATE\"\n",
    "checkpoint_name = \"training_549999\"\n",
    "embed_dim = 768"
   ]
  },
  {
   "cell_type": "code",
   "execution_count": null,
   "id": "47e86afc-0d80-46c2-a16f-604ce408b25a",
   "metadata": {},
   "outputs": [],
   "source": [
    "# Use this to generate embeddings during runtime\n",
    "\n",
    "dataset_path = os.path.join(data_path, \"niftis/CT-RATE\")\n",
    "\n",
    "embeddings_provider = EmbeddingsGenerator(\n",
    "    project_path,\n",
    "    run_name,\n",
    "    checkpoint_name,\n",
    "    dataset_path,\n",
    "    dataset_name=\"CT-RATE_train_eval\",\n",
    "    db_storage=\"nifti\",\n",
    "    device=torch.device(\"cuda:0\"),\n",
    "    embed_patches=False,\n",
    "    embed_cls=True,\n",
    "    max_batch_size=64,\n",
    "    resample_slices=240\n",
    ")"
   ]
  },
  {
   "cell_type": "code",
   "execution_count": null,
   "id": "4a421616-8ef0-44ad-a60a-b515167a01ca",
   "metadata": {
    "editable": true,
    "slideshow": {
     "slide_type": ""
    },
    "tags": []
   },
   "outputs": [],
   "source": [
    "# Use this to use cached embeddings\n",
    "embeddings_path = os.path.join(project_path, \"evaluation/cache/CT-RATE_train_eval\", run_name, checkpoint_name)\n",
    "\n",
    "embeddings_provider = CachedEmbeddings(embeddings_path)"
   ]
  },
  {
   "cell_type": "code",
   "execution_count": null,
   "id": "ce78497c-9cb3-4fe5-9b58-a8810eb32c40",
   "metadata": {},
   "outputs": [],
   "source": [
    "metadata_path = os.path.join(data_path, \"niftis/CT-RATE/multi_abnormality_labels/train_predicted_labels.csv\")\n",
    "label= \"Arterial wall calcification\"\n",
    "\n",
    "dataset = CT_RATE(\n",
    "    embeddings_provider,\n",
    "    metadata_path,\n",
    "    label,\n",
    ")\n",
    "\n",
    "train_dataset, val_dataset = split_dataset(dataset, 0.8)\n",
    "print(len(train_dataset), len(val_dataset))"
   ]
  },
  {
   "cell_type": "code",
   "execution_count": null,
   "id": "eb52e6ac",
   "metadata": {},
   "outputs": [],
   "source": [
    "batch_size = 1\n",
    "\n",
    "train_loader = torch.utils.data.DataLoader(\n",
    "    train_dataset,\n",
    "    batch_size=batch_size,\n",
    "    shuffle=False,\n",
    "    collate_fn=collate_sequences,\n",
    "    sampler=BalancedSampler(train_dataset),\n",
    ")\n",
    "val_loader = torch.utils.data.DataLoader(\n",
    "    val_dataset,\n",
    "    batch_size=1,\n",
    "    shuffle=False,\n",
    "    collate_fn=collate_sequences,\n",
    "    sampler=BalancedSampler(val_dataset),\n",
    ")\n",
    "print(len(train_loader), len(val_loader))"
   ]
  },
  {
   "cell_type": "code",
   "execution_count": null,
   "id": "655d400f-49e2-4951-b687-c6afadaef0f0",
   "metadata": {},
   "outputs": [],
   "source": [
    "device = torch.device(\"cuda:0\")\n",
    "\n",
    "hidden_dim = 512\n",
    "\n",
    "classifier_model = FullScanClassPredictor(embed_dim, hidden_dim, num_labels=1)\n",
    "\n",
    "classifier_model.to(device)\n",
    "print(\"Model loaded\")"
   ]
  },
  {
   "cell_type": "code",
   "execution_count": null,
   "id": "f5ce1b82-1fd3-4005-a462-eb8d9a415c9d",
   "metadata": {},
   "outputs": [],
   "source": [
    "device = torch.device(\"cuda:0\")\n",
    "\n",
    "hidden_dim = 512\n",
    "patch_resample_dim = 16\n",
    "\n",
    "classifier_model = FullScanPatchPredictor(\n",
    "    embed_dim, hidden_dim, num_labels=1, patch_resample_dim=patch_resample_dim\n",
    ")\n",
    "#classifier_model = torch.nn.DataParallel(classifier_model, device_ids=[0, 1, 2, 3])\n",
    "classifier_model.to(device)\n",
    "print(\"Model loaded\")"
   ]
  },
  {
   "cell_type": "code",
   "execution_count": null,
   "id": "19e9cf09-dd80-4c40-a2bb-f306c645112a",
   "metadata": {},
   "outputs": [],
   "source": [
    "accum_steps = 32\n",
    "train_iters = accum_steps*4\n",
    "\n",
    "optimizer = torch.optim.SGD(classifier_model.parameters(), momentum=0.9, weight_decay=0.01, lr=1e-3)\n",
    "criterion = torch.nn.BCEWithLogitsLoss()\n",
    "#scheduler = torch.optim.lr_scheduler.CosineAnnealingLR(optimizer, train_epochs, eta_min=1e-5)\n",
    "\n",
    "def train_test():\n",
    "    train_metrics = train(\n",
    "        classifier_model,\n",
    "        optimizer,\n",
    "        criterion,\n",
    "        train_loader,\n",
    "        train_iters,\n",
    "        accum_steps,\n",
    "        device\n",
    "    )\n",
    "    print(\n",
    "        f\"PR AUC: {train_metrics['pr_auc']:.4f} - ROC AUC: {train_metrics['roc_auc']:.4f}\\n\"\n",
    "    )\n",
    "\n",
    "    eval_metrics = evaluate(\n",
    "        classifier_model, val_loader, device=device, max_eval_n=100\n",
    "    )\n",
    "    print(\n",
    "        f\"PR AUC: {eval_metrics['pr_auc']:.4f} - ROC AUC: {eval_metrics['roc_auc']:.4f}\\n\"\n",
    "    )\n"
   ]
  },
  {
   "cell_type": "code",
   "execution_count": null,
   "id": "6c53cb50",
   "metadata": {},
   "outputs": [],
   "source": [
    "for i in range(10):\n",
    "    train_test()\n"
   ]
  },
  {
   "cell_type": "code",
   "execution_count": null,
   "id": "d554f86a-5083-4c49-939e-a5e6a697a88f",
   "metadata": {},
   "outputs": [],
   "source": []
  }
 ],
 "metadata": {
  "kernelspec": {
   "display_name": "dino2",
   "language": "python",
   "name": "dino2"
  },
  "language_info": {
   "codemirror_mode": {
    "name": "ipython",
    "version": 3
   },
   "file_extension": ".py",
   "mimetype": "text/x-python",
   "name": "python",
   "nbconvert_exporter": "python",
   "pygments_lexer": "ipython3",
   "version": "3.10.16"
  }
 },
 "nbformat": 4,
 "nbformat_minor": 5
}
