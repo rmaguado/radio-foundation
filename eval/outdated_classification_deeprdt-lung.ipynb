{
 "cells": [
  {
   "cell_type": "code",
   "execution_count": null,
   "id": "45fb121a-b1df-4b5b-a34f-fd3ac544ab5c",
   "metadata": {},
   "outputs": [],
   "source": [
    "import warnings\n",
    "warnings.filterwarnings('ignore')\n",
    "\n",
    "import sys\n",
    "sys.path.append(\"..\")\n",
    "\n",
    "import torch\n",
    "from tqdm.notebook import tqdm\n",
    "\n",
    "import dinov2.utils.utils as dinov2_utils\n",
    "from utils import (\n",
    "    load_model, get_dataloader, multiclass_accuracy_logits,\n",
    "    ImageTransform, DinoClassifier\n",
    ")\n",
    "from extended_datasets import DeepRDTlungEvalResponse"
   ]
  },
  {
   "cell_type": "code",
   "execution_count": null,
   "id": "4fb1deb4-31bc-494c-ae97-f41a8c501ca7",
   "metadata": {},
   "outputs": [],
   "source": [
    "path_to_run = \"../runs/base_112x6x3/\"\n",
    "checkpoint_name = \"training_149999\"\n",
    "device = torch.device(\"cuda:0\")\n",
    "\n",
    "feature_model, config = load_model(path_to_run, checkpoint_name, device)\n",
    "print(\"Loaded model\")"
   ]
  },
  {
   "cell_type": "code",
   "execution_count": null,
   "id": "fb561b7c-70b4-4e46-914b-f323e8ec1cda",
   "metadata": {},
   "outputs": [],
   "source": [
    "full_image_size = config.student.full_image_size\n",
    "data_mean, data_std = config.norm.values()\n",
    "print(\"Full image size:\", full_image_size)\n",
    "print(f\"mean: {data_mean}, std: {data_std}\")"
   ]
  },
  {
   "cell_type": "code",
   "execution_count": null,
   "id": "da52cc29-788b-410f-a2b8-ffc9ff22258a",
   "metadata": {},
   "outputs": [],
   "source": [
    "img_processor = ImageTransform(full_image_size, data_mean, data_std)\n",
    "\n",
    "dataset_kwargs = {\n",
    "    \"root\": \"../datasets/DeepRDT-lung/data\",\n",
    "    \"extra\": \"../datasets/DeepRDT-lung/extra\"\n",
    "}\n",
    "\n",
    "train_dataset = DeepRDTlungEvalResponse(\n",
    "    split=\"TRAIN\",\n",
    "    transform=img_processor,\n",
    "    **dataset_kwargs\n",
    ")\n",
    "val_dataset = DeepRDTlungEvalResponse(\n",
    "    split=\"VAL\",\n",
    "    transform=img_processor,\n",
    "    **dataset_kwargs\n",
    ")\n",
    "train_dataloader = get_dataloader(train_dataset, is_infinite=True)\n",
    "val_dataloader = get_dataloader(val_dataset)"
   ]
  },
  {
   "cell_type": "code",
   "execution_count": null,
   "id": "b1896276-fe09-43b7-b40e-43c401ba805c",
   "metadata": {},
   "outputs": [],
   "source": [
    "im, ta = train_dataset[0]\n",
    "with torch.no_grad():\n",
    "    outputs = feature_model(im.view(1,1,full_image_size,full_image_size).to(device))\n",
    "_, _, embed_dim = outputs[0][0].shape\n",
    "print(\"Embedding dimension:\", embed_dim)"
   ]
  },
  {
   "cell_type": "code",
   "execution_count": null,
   "id": "188125eb-8586-4f51-ae3c-1c7b294969d2",
   "metadata": {},
   "outputs": [],
   "source": [
    "model = DinoClassifier(\n",
    "    feature_model,\n",
    "    embed_dim=embed_dim*4,\n",
    "    hidden_dim=4096,\n",
    "    num_labels=2,\n",
    "    device=device\n",
    ")"
   ]
  },
  {
   "cell_type": "code",
   "execution_count": null,
   "id": "81c71906-d9e1-48e1-a32e-ce89cf254fd8",
   "metadata": {},
   "outputs": [],
   "source": [
    "counts = [0, 0]\n",
    "for index in range(len(train_dataset)):\n",
    "    target = train_dataset.get_target(index)\n",
    "    counts[target] += 1\n",
    "cross_entropy_weights = torch.tensor([len(train_dataset)/x for x in counts]).to(device)\n",
    "print(\"Adjusted weights for class imbalance:\", cross_entropy_weights)"
   ]
  },
  {
   "cell_type": "code",
   "execution_count": null,
   "id": "d539b841-fbd6-4d43-8859-5f7033a46693",
   "metadata": {},
   "outputs": [],
   "source": [
    "eval_interval = 500\n",
    "max_iter = 2_500\n",
    "\n",
    "criterion = torch.nn.CrossEntropyLoss(weight=cross_entropy_weights)\n",
    "optimizer = torch.optim.SGD(\n",
    "    model.parameters(), lr=0.0001, momentum=0.9, weight_decay=0\n",
    ")\n",
    "scheduler = torch.optim.lr_scheduler.CosineAnnealingLR(optimizer, max_iter, eta_min=1e-6)"
   ]
  },
  {
   "cell_type": "code",
   "execution_count": null,
   "id": "10e1673a-8cc5-4510-a773-a55ad9c0977b",
   "metadata": {},
   "outputs": [],
   "source": [
    "iteration = 0\n",
    "\n",
    "while iteration < max_iter:\n",
    "    \n",
    "    model.train()\n",
    "    running_loss = 0.0\n",
    "    alpha = 0.99\n",
    "    train_tqdm = tqdm(range(1, eval_interval+1), desc=f\"Training (Iter {iteration}/{max_iter}).\", leave=False)\n",
    "    for i in train_tqdm:\n",
    "        inputs, targets = next(train_dataloader)\n",
    "        optimizer.zero_grad()\n",
    "        outputs = model(inputs.to(device))\n",
    "        loss = criterion(outputs, targets.to(device))\n",
    "        loss.backward()\n",
    "        torch.nn.utils.clip_grad_norm_(model.parameters(), 3)\n",
    "        optimizer.step()\n",
    "        scheduler.step()\n",
    "        \n",
    "        running_loss = alpha * running_loss + (1 - alpha) * loss.item() if running_loss != 0 else loss.item()\n",
    "        train_tqdm.set_postfix({\"Loss\": running_loss})\n",
    "        \n",
    "        iteration += 1\n",
    "    \n",
    "    model.eval()\n",
    "    accuracy_sum = 0.0\n",
    "    with torch.no_grad():\n",
    "        for inputs, targets in tqdm(val_dataloader, desc=f\"Evaluation\", leave=False):\n",
    "            outputs = model(inputs.to(device))\n",
    "            accuracy_sum += multiclass_accuracy_logits(outputs, targets)\n",
    "            \n",
    "    avg_accuracy = accuracy_sum / len(val_dataloader)\n",
    "            \n",
    "    print(f\"Iteration: {iteration}, Training Loss: {running_loss:.4f}, Validation Accuracy: {avg_accuracy:.4f}\")\n"
   ]
  },
  {
   "cell_type": "code",
   "execution_count": null,
   "id": "0c856df9-0d9e-4c2b-aefa-6c3be24ebd03",
   "metadata": {},
   "outputs": [],
   "source": []
  }
 ],
 "metadata": {
  "kernelspec": {
   "display_name": "Python 3 (ipykernel)",
   "language": "python",
   "name": "python3"
  },
  "language_info": {
   "codemirror_mode": {
    "name": "ipython",
    "version": 3
   },
   "file_extension": ".py",
   "mimetype": "text/x-python",
   "name": "python",
   "nbconvert_exporter": "python",
   "pygments_lexer": "ipython3",
   "version": "3.9.7"
  }
 },
 "nbformat": 4,
 "nbformat_minor": 5
}
