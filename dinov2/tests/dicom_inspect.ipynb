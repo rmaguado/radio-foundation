{
 "cells": [
  {
   "cell_type": "code",
   "execution_count": null,
   "metadata": {},
   "outputs": [],
   "source": [
    "import matplotlib.pyplot as plt\n",
    "import pydicom\n",
    "import os\n",
    "\n",
    "from dotenv import load_dotenv"
   ]
  },
  {
   "cell_type": "code",
   "execution_count": null,
   "metadata": {},
   "outputs": [],
   "source": [
    "load_dotenv()\n",
    "project_path = os.getenv(\"PROJECTPATH\")\n",
    "data_path = os.getenv(\"DATAPATH\")"
   ]
  },
  {
   "cell_type": "code",
   "execution_count": null,
   "metadata": {},
   "outputs": [],
   "source": [
    "dataset_path = os.path.join(data_path, \"dicoms/NLST/NLST.10\")\n",
    "patient_ids = os.listdir(dataset_path)\n",
    "dcm_paths = []\n",
    "for p_id in patient_ids:\n",
    "    patient_folder = os.path.join(dataset_path, p_id)\n",
    "    if os.path.isdir(patient_folder):\n",
    "        for root, dirs, files in os.walk(patient_folder):\n",
    "            dicom_files = [f for f in files if f.endswith(\".dcm\")]\n",
    "            if dicom_files:\n",
    "                dcm_paths.append(os.path.join(root, dicom_files[0]))\n",
    "                break\n",
    "print(len(patient_ids))"
   ]
  },
  {
   "cell_type": "code",
   "execution_count": null,
   "metadata": {},
   "outputs": [],
   "source": [
    "attribute_name = \"Exposure (mAs)\"\n",
    "attribute_code = (0x0018, 0x1152)\n",
    "gathered_attribute = []\n",
    "for dcm_path in dcm_paths:\n",
    "    dcm = pydicom.dcmread(dcm_path)\n",
    "    gathered_attribute.append(float(dcm[attribute_code].value))\n",
    "\n",
    "plt.hist(gathered_attribute, bins=50)\n",
    "plt.xlabel(attribute_name)\n",
    "plt.ylabel(\"n\")\n",
    "plt.show()"
   ]
  },
  {
   "cell_type": "code",
   "execution_count": null,
   "metadata": {},
   "outputs": [],
   "source": [
    "\"\"\"\n",
    "(0x0018,0x1151) X-Ray Tube Current                  IS: '246'\n",
    "(0x0018,0x1152) Exposure                            IS: '3'\n",
    "(0x0018,0x1170) Generator Power                     IS: '60000'\n",
    "(0x0018,0x1190) Focal Spot(s)                       DS: '1.200000'\n",
    "(0x0018,0x1210) Convolution Kernel                  SH: 'LUNG'\n",
    "\"\"\""
   ]
  },
  {
   "cell_type": "code",
   "execution_count": null,
   "metadata": {},
   "outputs": [],
   "source": []
  }
 ],
 "metadata": {
  "kernelspec": {
   "display_name": "dino2t24",
   "language": "python",
   "name": "python3"
  },
  "language_info": {
   "codemirror_mode": {
    "name": "ipython",
    "version": 3
   },
   "file_extension": ".py",
   "mimetype": "text/x-python",
   "name": "python",
   "nbconvert_exporter": "python",
   "pygments_lexer": "ipython3",
   "version": "3.10.15"
  }
 },
 "nbformat": 4,
 "nbformat_minor": 2
}
