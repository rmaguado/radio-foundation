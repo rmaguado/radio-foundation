{
 "cells": [
  {
   "cell_type": "code",
   "execution_count": null,
   "metadata": {},
   "outputs": [],
   "source": [
    "import pandas as pd\n",
    "import os\n",
    "import numpy as np"
   ]
  },
  {
   "cell_type": "code",
   "execution_count": null,
   "metadata": {},
   "outputs": [],
   "source": [
    "run_name = \"vitb_CT-RATE\"\n",
    "checkpoint_name = \"training_549999\"\n",
    "\n",
    "test_name = \"cross_validation_cls_patch\"\n",
    "\n",
    "results_path = os.path.join(\"results\", run_name, checkpoint_name, test_name)\n",
    "\n",
    "labels = os.listdir(results_path)\n",
    "labels"
   ]
  },
  {
   "cell_type": "code",
   "execution_count": null,
   "metadata": {},
   "outputs": [],
   "source": [
    "metrics = [\"roc_auc\", \"pr_auc\", \"f1\"]\n",
    "cv_results = {l: {m: None for m in metrics} for l in labels}\n",
    "test_results = {l: {m: None for m in metrics} for l in labels}\n",
    "n_folds = 5\n",
    "\n",
    "for label in labels:\n",
    "    label_result_path = os.path.join(results_path, label)\n",
    "\n",
    "    label_cv_results = {m: [] for m in metrics}\n",
    "\n",
    "    for i in range(1, n_folds + 1):\n",
    "        cv_fold_path = os.path.join(label_result_path, f\"{i}.csv\")\n",
    "        df = pd.read_csv(cv_fold_path)\n",
    "        final_row = df.iloc[-1].to_dict()\n",
    "\n",
    "        for m in metrics:\n",
    "            label_cv_results[m].append(final_row[m])\n",
    "\n",
    "    test_path = os.path.join(label_result_path, \"test.csv\")\n",
    "    df = pd.read_csv(cv_fold_path)\n",
    "    final_row = df.iloc[-1].to_dict()\n",
    "\n",
    "    for m in metrics:\n",
    "        test_results[label][m] = final_row[m]\n",
    "\n",
    "    for m in metrics:\n",
    "        mean = float(np.mean(label_cv_results[m]))\n",
    "        std = float(np.std(label_cv_results[m]))\n",
    "        ci = std / (n_folds**0.5) * 1.96\n",
    "        cv_results[label][m] = (mean, std, ci)"
   ]
  },
  {
   "cell_type": "code",
   "execution_count": null,
   "metadata": {},
   "outputs": [],
   "source": [
    "for label in labels:\n",
    "    print(label)\n",
    "    for m in metrics:\n",
    "        mean, std, ci = cv_results[label][m]\n",
    "        print(f\"{m}: {mean:.4f} ± {ci:.4f}\")\n",
    "    print()"
   ]
  },
  {
   "cell_type": "code",
   "execution_count": null,
   "metadata": {},
   "outputs": [],
   "source": [
    "for label in labels:\n",
    "    print(label)\n",
    "    for m in metrics:\n",
    "        mean = test_results[label][m]\n",
    "        print(f\"{m}: {mean:.4f}\")\n",
    "    print()"
   ]
  },
  {
   "cell_type": "code",
   "execution_count": null,
   "metadata": {},
   "outputs": [],
   "source": []
  }
 ],
 "metadata": {
  "kernelspec": {
   "display_name": "dino2",
   "language": "python",
   "name": "dino2"
  },
  "language_info": {
   "codemirror_mode": {
    "name": "ipython",
    "version": 3
   },
   "file_extension": ".py",
   "mimetype": "text/x-python",
   "name": "python",
   "nbconvert_exporter": "python",
   "pygments_lexer": "ipython3",
   "version": "3.10.16"
  }
 },
 "nbformat": 4,
 "nbformat_minor": 2
}
