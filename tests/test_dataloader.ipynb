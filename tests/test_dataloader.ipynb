{
 "cells": [
  {
   "cell_type": "code",
   "execution_count": null,
   "metadata": {},
   "outputs": [],
   "source": [
    "%cd ..\n",
    "\n",
    "from omegaconf import OmegaConf\n",
    "from dotenv import load_dotenv\n",
    "import torch\n",
    "import os\n",
    "import matplotlib.pyplot as plt\n",
    "\n",
    "from dinov2.configs import dinov2_default_config\n",
    "from dinov2.train.setup import setup_dataloader"
   ]
  },
  {
   "cell_type": "code",
   "execution_count": null,
   "metadata": {},
   "outputs": [],
   "source": [
    "load_dotenv()\n",
    "config_file = os.path.join(os.getenv(\"PROJECTPATH\"), \"configs/vitl_test.yaml\")\n",
    "default_cfg = OmegaConf.create(dinov2_default_config)\n",
    "cfg = OmegaConf.load(config_file)\n",
    "cfg = OmegaConf.merge(default_cfg, cfg, OmegaConf.from_cli())\n",
    "cfg.train.num_workers = 1\n",
    "cfg.train.batch_size_per_gpu = 1\n",
    "# cfg.datasets[0].channels = 1"
   ]
  },
  {
   "cell_type": "code",
   "execution_count": null,
   "metadata": {},
   "outputs": [],
   "source": [
    "dataloader = setup_dataloader(cfg, torch.half, use_full_image=False)\n",
    "get_iter = iter(dataloader)"
   ]
  },
  {
   "cell_type": "code",
   "execution_count": null,
   "metadata": {},
   "outputs": [],
   "source": [
    "example_data = next(get_iter)\n",
    "example_data.keys()"
   ]
  },
  {
   "cell_type": "code",
   "execution_count": null,
   "metadata": {},
   "outputs": [],
   "source": [
    "global_crops = example_data[\"collated_global_crops\"]\n",
    "n_global_crops = global_crops.shape[0]\n",
    "\n",
    "vmin = torch.min(global_crops)\n",
    "vmax = torch.max(global_crops)"
   ]
  },
  {
   "cell_type": "code",
   "execution_count": null,
   "metadata": {},
   "outputs": [],
   "source": [
    "local_crops = example_data[\"collated_local_crops\"]\n",
    "n_local_crops = local_crops.shape[0]\n",
    "\n",
    "vmin = min(vmin, torch.min(local_crops))\n",
    "vmax = max(vmax, torch.max(local_crops))"
   ]
  },
  {
   "cell_type": "code",
   "execution_count": null,
   "metadata": {},
   "outputs": [],
   "source": [
    "fig, axes = plt.subplots(1, n_global_crops)\n",
    "axes = axes.flatten()\n",
    "\n",
    "for i in range(n_global_crops):\n",
    "    im = axes[i].imshow(global_crops[i][0], cmap=\"gray\", vmin=vmin, vmax=vmax)\n",
    "    axes[i].axis(\"off\")\n",
    "    axes[i].set_title(f\"crop {i + 1}\")\n",
    "\n",
    "fig.colorbar(im, ax=axes, fraction=0.02, pad=0.1)\n",
    "\n",
    "plt.show()"
   ]
  },
  {
   "cell_type": "code",
   "execution_count": null,
   "metadata": {},
   "outputs": [],
   "source": [
    "fig, axes = plt.subplots(2, -(n_local_crops // -2))\n",
    "axes = axes.flatten()\n",
    "\n",
    "for i in range(n_local_crops):\n",
    "    im = axes[i].imshow(local_crops[i][0], cmap=\"gray\", vmin=vmin, vmax=vmax)\n",
    "    axes[i].set_xticklabels([])\n",
    "    axes[i].set_yticklabels([])\n",
    "    axes[i].axis(\"off\")\n",
    "\n",
    "plt.subplots_adjust(wspace=0.1, hspace=0)\n",
    "fig.colorbar(im, ax=axes, fraction=0.03, pad=0.1)\n",
    "\n",
    "plt.show()"
   ]
  },
  {
   "cell_type": "code",
   "execution_count": null,
   "metadata": {},
   "outputs": [],
   "source": [
    "slices, rows, columns = global_crops[0].shape\n",
    "row = rows // 2\n",
    "\n",
    "fig, axes = plt.subplots(1, n_global_crops)\n",
    "axes = axes.flatten()\n",
    "\n",
    "for i in range(n_global_crops):\n",
    "    im = axes[i].imshow(global_crops[i][:, row, :], cmap=\"gray\", vmin=vmin, vmax=vmax)\n",
    "    axes[i].axis(\"off\")\n",
    "    axes[i].set_title(f\"crop {i + 1}\")\n",
    "\n",
    "fig.colorbar(im, ax=axes, fraction=0.02, pad=0.1)\n",
    "\n",
    "plt.show()"
   ]
  },
  {
   "cell_type": "code",
   "execution_count": null,
   "metadata": {},
   "outputs": [],
   "source": []
  }
 ],
 "metadata": {
  "kernelspec": {
   "display_name": "dino2",
   "language": "python",
   "name": "dino2"
  },
  "language_info": {
   "codemirror_mode": {
    "name": "ipython",
    "version": 3
   },
   "file_extension": ".py",
   "mimetype": "text/x-python",
   "name": "python",
   "nbconvert_exporter": "python",
   "pygments_lexer": "ipython3",
   "version": "3.10.16"
  }
 },
 "nbformat": 4,
 "nbformat_minor": 2
}
