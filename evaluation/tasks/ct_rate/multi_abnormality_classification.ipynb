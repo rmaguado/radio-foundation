{
 "cells": [
  {
   "cell_type": "code",
   "execution_count": null,
   "id": "45fb121a-b1df-4b5b-a34f-fd3ac544ab5c",
   "metadata": {},
   "outputs": [],
   "source": [
    "%cd ../../..\n",
    "import warnings\n",
    "\n",
    "warnings.filterwarnings(\"ignore\")\n",
    "\n",
    "import numpy as np\n",
    "import random\n",
    "import os\n",
    "import torch\n",
    "from dotenv import load_dotenv\n",
    "\n",
    "from evaluation.utils.networks import FullScanClassPredictor\n",
    "from evaluation.tasks.ct_rate.datasets import CT_RATE\n",
    "from evaluation.utils.dataset import BalancedSampler, split_dataset\n",
    "from evaluation.utils.train import train\n",
    "\n",
    "np.random.seed(42)\n",
    "random.seed(42)"
   ]
  },
  {
   "cell_type": "code",
   "execution_count": null,
   "id": "7535502a",
   "metadata": {},
   "outputs": [],
   "source": [
    "load_dotenv()\n",
    "project_path = os.getenv(\"PROJECTPATH\")\n",
    "data_path = os.getenv(\"DATAPATH\")\n",
    "\n",
    "\"\"\"\n",
    "DINO:\n",
    "run_name = \"vitb-14.10\"\n",
    "checkpoint_name = \"training_319999\"\n",
    "cache_format = \"npy\"\n",
    "embed_dim = 768 * 4\n",
    "\n",
    "Diffusion:\n",
    "run_name = \"diffusion_new240\"\n",
    "checkpoint_name = \"unnamed_checkpoint\"\n",
    "cache_format = \"npz\"\n",
    "embed_dim = 512\n",
    "\"\"\"\n",
    "\n",
    "run_name = \"diffusion_new240\"\n",
    "checkpoint_name = \"unnamed_checkpoint\"\n",
    "cache_format = \"npz\"\n",
    "embed_dim = 512\n",
    "\n",
    "device = torch.device(\"cuda:0\")"
   ]
  },
  {
   "cell_type": "markdown",
   "id": "9597d982",
   "metadata": {},
   "source": [
    "# AUC-ROC Scores\n",
    "**DINO**\n",
    "- Lung nodule (0.6302)\n",
    "- Lung opacity (0.7028)\n",
    "- Arterial wall calcification (0.8299)\n",
    "- Pulmonary fibrotic sequela (0.6619)\n",
    "\n",
    "**Diffusion**\n",
    "- Lung nodule (0.5136)\n",
    "- Lung opacity (0.5602)\n",
    "- Arterial wall calcification (0.5366)\n",
    "- Pulmonary fibrotic sequela (0.5000)\n",
    "\n",
    "**CT-CLIP**\n",
    "- Lung nodule ()\n",
    "- Lung opacity ()\n",
    "- Arterial wall calcification ()\n",
    "- Pulmonary fibrotic sequela ()\n",
    "\n"
   ]
  },
  {
   "cell_type": "code",
   "execution_count": null,
   "id": "4a421616-8ef0-44ad-a60a-b515167a01ca",
   "metadata": {},
   "outputs": [],
   "source": [
    "metadata_path = os.path.join(data_path, \"CT-RATE/multi_abnormality_labels/valid_predicted_labels.csv\")\n",
    "label= \"Pulmonary fibrotic sequela\"\n",
    "\n",
    "dataset = CT_RATE(\n",
    "    run_name,\n",
    "    checkpoint_name,\n",
    "    metadata_path,\n",
    "    label,\n",
    "    cache_format=cache_format,\n",
    ")\n",
    "\n",
    "train_dataset, val_dataset = split_dataset(dataset, 0.8)"
   ]
  },
  {
   "cell_type": "code",
   "execution_count": null,
   "id": "eb52e6ac",
   "metadata": {},
   "outputs": [],
   "source": [
    "def collate_fn(batch):\n",
    "    embeddings, labels = zip(*batch)\n",
    "\n",
    "    _, num_tokens, embed_dim = embeddings[0].shape\n",
    "\n",
    "    max_length = max([embedding.shape[0] for embedding in embeddings])\n",
    "    \n",
    "    padded_embeddings = torch.zeros(len(embeddings), max_length, num_tokens, embed_dim)\n",
    "    mask = torch.zeros(len(embeddings), max_length)\n",
    "\n",
    "    for i, embedding in enumerate(embeddings):\n",
    "        padded_embeddings[i, :embedding.shape[0]] = embedding\n",
    "        mask[i, :embedding.shape[0]] = 1\n",
    "\n",
    "    return padded_embeddings, mask, torch.tensor(labels)\n",
    "\n",
    "train_loader = torch.utils.data.DataLoader(\n",
    "    train_dataset,\n",
    "    batch_size=1,\n",
    "    collate_fn=collate_fn,\n",
    "    sampler=BalancedSampler(train_dataset),\n",
    ")\n",
    "val_loader = torch.utils.data.DataLoader(\n",
    "    val_dataset,\n",
    "    batch_size=1,\n",
    "    shuffle=False,\n",
    "    collate_fn=collate_fn,\n",
    ")"
   ]
  },
  {
   "cell_type": "code",
   "execution_count": null,
   "id": "f5ce1b82-1fd3-4005-a462-eb8d9a415c9d",
   "metadata": {},
   "outputs": [],
   "source": [
    "hidden_dim = 1024\n",
    "\n",
    "classifier_model = FullScanClassPredictor(\n",
    "    embed_dim, hidden_dim, num_labels=1\n",
    ").to(device)"
   ]
  },
  {
   "cell_type": "code",
   "execution_count": null,
   "id": "19e9cf09-dd80-4c40-a2bb-f306c645112a",
   "metadata": {},
   "outputs": [],
   "source": [
    "train_epochs = 20\n",
    "accum_steps = 32\n",
    "\n",
    "optimizer = torch.optim.SGD(classifier_model.parameters(), momentum=0.9, weight_decay=0.01, lr=1e-3)\n",
    "criterion = torch.nn.BCEWithLogitsLoss()\n",
    "#scheduler = torch.optim.lr_scheduler.CosineAnnealingLR(optimizer, train_epochs, eta_min=1e-5)\n",
    "\n",
    "losses, grad_norms, val_metrics = train(\n",
    "    classifier_model,\n",
    "    optimizer,\n",
    "    criterion,\n",
    "    train_loader,\n",
    "    val_loader,\n",
    "    train_epochs,\n",
    "    accum_steps,\n",
    "    device\n",
    ")"
   ]
  },
  {
   "cell_type": "code",
   "execution_count": null,
   "id": "8766fac4",
   "metadata": {},
   "outputs": [],
   "source": []
  }
 ],
 "metadata": {
  "kernelspec": {
   "display_name": "radio",
   "language": "python",
   "name": "python3"
  },
  "language_info": {
   "codemirror_mode": {
    "name": "ipython",
    "version": 3
   },
   "file_extension": ".py",
   "mimetype": "text/x-python",
   "name": "python",
   "nbconvert_exporter": "python",
   "pygments_lexer": "ipython3",
   "version": "3.10.16"
  }
 },
 "nbformat": 4,
 "nbformat_minor": 5
}
