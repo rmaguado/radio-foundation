{
 "cells": [
  {
   "cell_type": "code",
   "execution_count": null,
   "id": "45fb121a-b1df-4b5b-a34f-fd3ac544ab5c",
   "metadata": {},
   "outputs": [],
   "source": [
    "%cd ..\n",
    "import warnings\n",
    "\n",
    "warnings.filterwarnings(\"ignore\")\n",
    "\n",
    "import os\n",
    "import numpy as np\n",
    "import torch\n",
    "from tqdm import tqdm\n",
    "import matplotlib.pyplot as plt\n",
    "from dotenv import load_dotenv\n",
    "from collections import deque\n",
    "\n",
    "from evaluation.utils.finetune import load_model, binary_accuracy_logits, extract_class_tokens\n",
    "from evaluation.utils.classification import ImageTransform, AggregateClassTokens\n",
    "from evaluation.extended_datasets.deeprdt_lung import DeepRDTSplit, get_dataloader"
   ]
  },
  {
   "cell_type": "code",
   "execution_count": null,
   "id": "7535502a",
   "metadata": {},
   "outputs": [],
   "source": [
    "load_dotenv()\n",
    "project_path = os.getenv(\"PROJECTPATH\")\n",
    "data_path = os.getenv(\"DATAPATH\")"
   ]
  },
  {
   "cell_type": "code",
   "execution_count": null,
   "id": "4fb1deb4-31bc-494c-ae97-f41a8c501ca7",
   "metadata": {},
   "outputs": [],
   "source": [
    "path_to_run = \"runs/base_103x4x5\"\n",
    "checkpoint_name = \"training_69999\"\n",
    "device = torch.device(\"cuda:0\")\n",
    "\n",
    "feature_model, config = load_model(path_to_run, checkpoint_name, device)\n",
    "print(\"Loaded model\")"
   ]
  },
  {
   "cell_type": "code",
   "execution_count": null,
   "id": "37ab141c-16a7-4b1a-8fcb-4c0a28469fff",
   "metadata": {},
   "outputs": [],
   "source": [
    "full_image_size = config.student.full_image_size\n",
    "patch_size = config.student.patch_size\n",
    "data_mean = -573.8\n",
    "data_std = 461.3\n",
    "channels = 4\n",
    "\n",
    "print(\"Full image size:\", full_image_size)"
   ]
  },
  {
   "cell_type": "code",
   "execution_count": null,
   "id": "6f108fb1-4cab-43bb-a6e3-36ae40d9d53f",
   "metadata": {},
   "outputs": [],
   "source": [
    "print(\"Num cpus:\", os.cpu_count())"
   ]
  },
  {
   "cell_type": "code",
   "execution_count": null,
   "id": "4a421616-8ef0-44ad-a60a-b515167a01ca",
   "metadata": {},
   "outputs": [],
   "source": [
    "img_processor = ImageTransform(full_image_size, data_mean, data_std)\n",
    "\n",
    "dataset_kwargs = {\n",
    "    \"root_path\": os.path.join(data_path, \"dicoms\"),\n",
    "    \"metadata_path\": os.path.join(data_path, \"dicoms/DeepRDT-lung/metadata_lung_oldPat.csv\"),\n",
    "    \"transform\": img_processor,\n",
    "    \"max_workers\": 4,\n",
    "    \"train_val_split\": 0.95,\n",
    "}\n",
    "\n",
    "train_positives = DeepRDTSplit(**dataset_kwargs, split=\"train\", labels=True)\n",
    "train_negatives = DeepRDTSplit(**dataset_kwargs, split=\"train\", labels=False)\n",
    "\n",
    "train_positives_dataloader = get_dataloader(train_positives, channels=4, split=\"train\")\n",
    "train_negatives_dataloader = get_dataloader(train_negatives, channels=4, split=\"train\")"
   ]
  },
  {
   "cell_type": "code",
   "execution_count": null,
   "id": "0d1416f0-6638-4d32-8285-741647cb216f",
   "metadata": {},
   "outputs": [],
   "source": [
    "def show_embed_dim():\n",
    "    test_images, test_targets = next(train_dataloader)\n",
    "    unit_batch = test_images[0].view(1, channels, full_image_size, full_image_size)\n",
    "    with torch.no_grad():\n",
    "        outputs = feature_model(unit_batch.to(device))\n",
    "    _, _, embed_dim = outputs[0][0].shape\n",
    "    print(\"Embedding dimension:\", embed_dim)\n",
    "# print(show_embed_dim())"
   ]
  },
  {
   "cell_type": "code",
   "execution_count": null,
   "id": "3ace1cfa-f19e-40af-b579-e5a5cf0f76be",
   "metadata": {},
   "outputs": [],
   "source": [
    "batch_img, batch_target = next(iter(train_dataloader))\n",
    "batch_img.shape"
   ]
  },
  {
   "cell_type": "code",
   "execution_count": null,
   "id": "27fdca5e-96f7-49c8-9530-55414fc61a69",
   "metadata": {},
   "outputs": [],
   "source": [
    "# 1-Completa, 2-Parcial, 3-Estable, 4-Progresion"
   ]
  },
  {
   "cell_type": "code",
   "execution_count": null,
   "id": "f5ce1b82-1fd3-4005-a462-eb8d9a415c9d",
   "metadata": {},
   "outputs": [],
   "source": [
    "embed_dim = 768\n",
    "EMBED_DIM = embed_dim * 4\n",
    "PATCH_SIZE = config.student.patch_size\n",
    "BATCH_SIZE = 100\n",
    "\n",
    "classifier_model = AggregateClassTokens(\n",
    "    embed_dim=EMBED_DIM, num_labels=1\n",
    ").to(device)"
   ]
  },
  {
   "cell_type": "code",
   "execution_count": null,
   "id": "8f4c6f68",
   "metadata": {},
   "outputs": [],
   "source": [
    "from sklearn.metrics import classification_report\n",
    "\n",
    "def compute_metrics(predictions, labels):\n",
    "    return classification_report(labels, predictions, target_names=['No Response', 'Response'])"
   ]
  },
  {
   "cell_type": "code",
   "execution_count": null,
   "id": "03d05deb-a3a2-45e5-8597-f4ae0afcf9c2",
   "metadata": {},
   "outputs": [],
   "source": [
    "class Trainer:\n",
    "    def __init__(self):\n",
    "        self.dataloader = dataloader\n",
    "        \n",
    "        self.optimizer = torch.optim.SGD(classifier_model.parameters(), momentum=0.9, weight_decay=0)\n",
    "        self.scheduler = torch.optim.lr_scheduler.CosineAnnealingLR(optimizer, max_iter, eta_min=0)\n",
    "        self.criterion = torch.nn.BCEWithLogitsLoss()\n",
    "\n",
    "        self.device = device\n",
    "        self.alpha = 0.95\n",
    "        self.eval_interval = 20\n",
    "\n",
    "        self.positives = []\n",
    "        self.negatives = []\n",
    "\n",
    "    def train(self, iteration: int=0) -> int:\n",
    "\n",
    "        self.model.train()\n",
    "        running_loss = 0.0\n",
    "\n",
    "        self.optimizer.zero_grad()\n",
    "        \n",
    "        iter_train_loader = iter(self.dataloader)\n",
    "        epoch_tqdm = tqdm(range(1, len(self.dataloader) + 1), desc=f\"Training\", leave=True)\n",
    "    \n",
    "        for i in epoch_tqdm:\n",
    "            inputs, label = next(iter_train_loader)\n",
    "    \n",
    "            with torch.no_grad():\n",
    "                x_tokens_list = feature_model(inputs.to(device))\n",
    "            class_tokens = extract_class_tokens(x_tokens_list)    \n",
    "            classifier_output = classifier_model(resampled_tokens)\n",
    "    \n",
    "            loss = criterion(outputs, labels)\n",
    "            loss.backward()\n",
    "\n",
    "        torch.nn.utils.clip_grad_norm_(model.parameters(), clip_value)\n",
    "        optimizer.step()\n",
    "        scheduler.step()\n",
    "\n",
    "        iteration += 1\n",
    "    \n",
    "        return iteration"
   ]
  },
  {
   "cell_type": "code",
   "execution_count": null,
   "id": "83407c01",
   "metadata": {},
   "outputs": [],
   "source": [
    "trainer = Trainer()\n",
    "trainer.train()"
   ]
  },
  {
   "cell_type": "code",
   "execution_count": null,
   "id": "19e9cf09-dd80-4c40-a2bb-f306c645112a",
   "metadata": {},
   "outputs": [],
   "source": []
  }
 ],
 "metadata": {
  "kernelspec": {
   "display_name": "dino2t24",
   "language": "python",
   "name": "dino2t24"
  },
  "language_info": {
   "codemirror_mode": {
    "name": "ipython",
    "version": 3
   },
   "file_extension": ".py",
   "mimetype": "text/x-python",
   "name": "python",
   "nbconvert_exporter": "python",
   "pygments_lexer": "ipython3",
   "version": "3.10.15"
  }
 },
 "nbformat": 4,
 "nbformat_minor": 5
}
