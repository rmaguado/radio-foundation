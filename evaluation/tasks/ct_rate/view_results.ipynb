{
 "cells": [
  {
   "cell_type": "code",
   "execution_count": null,
   "metadata": {},
   "outputs": [],
   "source": [
    "import pandas as pd\n",
    "import os\n",
    "import numpy as np\n",
    "from sklearn.metrics import precision_score, recall_score"
   ]
  },
  {
   "cell_type": "code",
   "execution_count": null,
   "metadata": {},
   "outputs": [],
   "source": [
    "run_name = \"vitb_CT-RATE\"\n",
    "checkpoint_name = \"training_549999\"\n",
    "\n",
    "test_name = \"cross_validation_cls_logits\"\n",
    "\n",
    "results_path = os.path.join(\"results\", run_name, checkpoint_name, test_name)\n",
    "\n",
    "labels = os.listdir(results_path)"
   ]
  },
  {
   "cell_type": "code",
   "execution_count": null,
   "metadata": {},
   "outputs": [],
   "source": [
    "def get_pr_f1(logits, labels):\n",
    "    probabilities = 1 / (1 + np.exp(-logits))\n",
    "    thresholds = np.linspace(0, 1, 100)\n",
    "    best_threshold = 0.5\n",
    "    best_f1 = 0\n",
    "\n",
    "    for threshold in thresholds:\n",
    "        predictions = (probabilities >= threshold).astype(int)\n",
    "        precision = precision_score(labels, predictions, zero_division=0)\n",
    "        recall = recall_score(labels, predictions, zero_division=0)\n",
    "\n",
    "        if precision + recall > 0:\n",
    "            f1 = 2 * (precision * recall) / (precision + recall)\n",
    "            if f1 > best_f1:\n",
    "                best_f1 = f1\n",
    "                best_threshold = threshold\n",
    "\n",
    "    final_predictions = (probabilities >= best_threshold).astype(int)\n",
    "    final_precision = precision_score(labels, final_predictions)\n",
    "    final_recall = recall_score(labels, final_predictions)\n",
    "\n",
    "    return {\"precision\": final_precision, \"recall\": final_recall, \"f1\": best_f1}"
   ]
  },
  {
   "cell_type": "code",
   "execution_count": null,
   "metadata": {},
   "outputs": [],
   "source": [
    "metrics = [\"roc_auc\", \"pr_auc\", \"f1\", \"precision\", \"recall\"]\n",
    "cv_results = {l: {m: None for m in metrics} for l in labels}\n",
    "test_results = {l: {m: None for m in metrics} for l in labels}\n",
    "n_folds = 5\n",
    "\n",
    "for label in labels:\n",
    "    label_result_path = os.path.join(results_path, label)\n",
    "\n",
    "    label_cv_results = {m: [] for m in metrics}\n",
    "\n",
    "    for i in range(1, n_folds + 1):\n",
    "        cv_fold_path = os.path.join(label_result_path, f\"{i}.csv\")\n",
    "        df = pd.read_csv(cv_fold_path)\n",
    "        final_row = df.iloc[-1].to_dict()\n",
    "\n",
    "        for m in [\"roc_auc\", \"pr_auc\"]:\n",
    "            label_cv_results[m].append(final_row[m])\n",
    "\n",
    "        cv_fold_logits_path = os.path.join(label_result_path, f\"logits_{i}.csv\")\n",
    "        df = pd.read_csv(cv_fold_logits_path)\n",
    "        t_metrics = get_pr_f1(df[\"logits\"], df[\"labels\"])\n",
    "\n",
    "        for m in [\"precision\", \"recall\", \"f1\"]:\n",
    "            label_cv_results[m].append(t_metrics[m])\n",
    "\n",
    "    test_path = os.path.join(label_result_path, \"test.csv\")\n",
    "    df = pd.read_csv(cv_fold_path)\n",
    "    final_row = df.iloc[-1].to_dict()\n",
    "\n",
    "    for m in [\"roc_auc\", \"pr_auc\"]:\n",
    "        test_results[label][m] = final_row[m]\n",
    "\n",
    "    test_logits_path = os.path.join(label_result_path, f\"logits_test.csv\")\n",
    "    df = pd.read_csv(test_logits_path)\n",
    "    t_metrics = get_pr_f1(df[\"logits\"], df[\"labels\"])\n",
    "\n",
    "    for m in [\"precision\", \"recall\", \"f1\"]:\n",
    "        test_results[label][m] = t_metrics[m]\n",
    "\n",
    "    for m in metrics:\n",
    "        mean = float(np.mean(label_cv_results[m]))\n",
    "        std = float(np.std(label_cv_results[m]))\n",
    "        ci = std / (n_folds**0.5) * 1.96\n",
    "        cv_results[label][m] = (mean, std, ci)"
   ]
  },
  {
   "cell_type": "code",
   "execution_count": null,
   "metadata": {},
   "outputs": [],
   "source": [
    "header = \"| Label | \" + \" | \".join(metrics) + \" |\"\n",
    "separator = \"|-\" + \"-|-\".join([\"----\"] * (len(metrics) + 1)) + \"|\"\n",
    "\n",
    "print(header)\n",
    "print(separator)\n",
    "\n",
    "for label in labels:\n",
    "    row = f\"| {label} \"\n",
    "    for m in metrics:\n",
    "        mean, std, ci = cv_results[label][m]\n",
    "        row += f\"| {mean:.4f} ± {ci:.4f} \"\n",
    "    row += \"|\"\n",
    "    print(row)"
   ]
  },
  {
   "cell_type": "code",
   "execution_count": null,
   "metadata": {},
   "outputs": [],
   "source": [
    "header = \"| Label | \" + \" | \".join(metrics) + \" |\"\n",
    "separator = \"|-\" + \"-|-\".join([\"----\"] * (len(metrics) + 1)) + \"|\"\n",
    "\n",
    "print(header)\n",
    "print(separator)\n",
    "\n",
    "for label in labels:\n",
    "    row = f\"| {label} \"\n",
    "    for m in metrics:\n",
    "        mean = test_results[label][m]\n",
    "        row += f\"| {mean:.4f} \"\n",
    "    row += \"|\"\n",
    "    print(row)"
   ]
  },
  {
   "cell_type": "code",
   "execution_count": null,
   "metadata": {},
   "outputs": [],
   "source": []
  }
 ],
 "metadata": {
  "kernelspec": {
   "display_name": "dino2",
   "language": "python",
   "name": "python3"
  },
  "language_info": {
   "codemirror_mode": {
    "name": "ipython",
    "version": 3
   },
   "file_extension": ".py",
   "mimetype": "text/x-python",
   "name": "python",
   "nbconvert_exporter": "python",
   "pygments_lexer": "ipython3",
   "version": "3.10.16"
  }
 },
 "nbformat": 4,
 "nbformat_minor": 2
}
