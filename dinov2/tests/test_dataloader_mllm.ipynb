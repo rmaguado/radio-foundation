{
 "cells": [
  {
   "cell_type": "code",
   "execution_count": null,
   "metadata": {},
   "outputs": [],
   "source": [
    "%cd ..\n",
    "\n",
    "from dataclasses import dataclass\n",
    "from dotenv import load_dotenv\n",
    "import torch\n",
    "import os\n",
    "import matplotlib.pyplot as plt\n",
    "\n",
    "from mllm.llava.train.dataset import RadiologyReportDataset"
   ]
  },
  {
   "cell_type": "code",
   "execution_count": null,
   "metadata": {},
   "outputs": [],
   "source": [
    "load_dotenv()\n",
    "\n",
    "\n",
    "@dataclass\n",
    "class DataArguments:\n",
    "    root_path: str = os.path.join(os.getenv(\"DATAPATH\"), \"niftis/CT-RATE\")\n",
    "    db_name: str = \"CT-RATE_train_reports\"\n",
    "    channels: int = 10\n",
    "    data_mean: float = -573.8\n",
    "    data_std: float = 461.3\n",
    "    is_multimodal: bool = True\n",
    "    image_tokens: int = 128\n",
    "    conv_template: str = \"plain\"\n",
    "\n",
    "\n",
    "data_args = DataArguments()"
   ]
  },
  {
   "cell_type": "code",
   "execution_count": null,
   "metadata": {},
   "outputs": [],
   "source": [
    "dataset = RadiologyReportDataset(\n",
    "    root_path=data_args.root_path,\n",
    "    dataset_name=data_args.db_name,\n",
    "    channels=data_args.channels,\n",
    "    mean=data_args.data_mean,\n",
    "    std=data_args.data_std,\n",
    ")"
   ]
  },
  {
   "cell_type": "code",
   "execution_count": null,
   "metadata": {},
   "outputs": [],
   "source": [
    "example_data = dataset[0]"
   ]
  },
  {
   "cell_type": "code",
   "execution_count": null,
   "metadata": {},
   "outputs": [],
   "source": [
    "img_size = 504\n",
    "volume = example_data[0].view(-1, img_size, img_size)\n",
    "volume.shape"
   ]
  },
  {
   "cell_type": "code",
   "execution_count": null,
   "metadata": {},
   "outputs": [],
   "source": [
    "plt.imshow(volume[:,250,:], cmap=\"gray\")\n",
    "plt.colorbar()\n",
    "plt.show()"
   ]
  },
  {
   "cell_type": "code",
   "execution_count": null,
   "metadata": {},
   "outputs": [],
   "source": []
  }
 ],
 "metadata": {
  "kernelspec": {
   "display_name": "dino2",
   "language": "python",
   "name": "dino2"
  },
  "language_info": {
   "codemirror_mode": {
    "name": "ipython",
    "version": 3
   },
   "file_extension": ".py",
   "mimetype": "text/x-python",
   "name": "python",
   "nbconvert_exporter": "python",
   "pygments_lexer": "ipython3",
   "version": "3.10.16"
  }
 },
 "nbformat": 4,
 "nbformat_minor": 4
}
