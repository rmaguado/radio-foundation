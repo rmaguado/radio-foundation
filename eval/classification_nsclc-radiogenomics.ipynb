{
 "cells": [
  {
   "cell_type": "code",
   "execution_count": null,
   "id": "45fb121a-b1df-4b5b-a34f-fd3ac544ab5c",
   "metadata": {},
   "outputs": [],
   "source": [
    "import warnings\n",
    "warnings.filterwarnings('ignore')\n",
    "\n",
    "import sys\n",
    "sys.path.append(\"..\")\n",
    "\n",
    "import torch\n",
    "from tqdm.notebook import tqdm\n",
    "\n",
    "import dinov2.utils.utils as dinov2_utils\n",
    "from utils import (\n",
    "    load_model, get_dataloader, multiclass_accuracy_logits,\n",
    "    ImageTransform, DinoClassifier, \n",
    ")\n",
    "from extended_datasets import NsclcRadiogenomicsEvalSmokers"
   ]
  },
  {
   "cell_type": "code",
   "execution_count": null,
   "id": "4fb1deb4-31bc-494c-ae97-f41a8c501ca7",
   "metadata": {},
   "outputs": [],
   "source": [
    "path_to_run = \"../runs/base_112x6x3/\"\n",
    "checkpoint_name = \"training_149999\"\n",
    "device = torch.device(\"cuda:0\")\n",
    "\n",
    "feature_model, config = load_model(path_to_run, checkpoint_name, device)\n",
    "print(\"Loaded model\")"
   ]
  },
  {
   "cell_type": "code",
   "execution_count": null,
   "id": "7dbdf8cd-a946-46b0-9ec7-7c7fa68f7156",
   "metadata": {},
   "outputs": [],
   "source": [
    "full_image_size = config.student.full_image_size\n",
    "data_mean, data_std = config.norm.values()\n",
    "print(\"Full image size:\", full_image_size)\n",
    "print(f\"mean: {data_mean}, std: {data_std}\")"
   ]
  },
  {
   "cell_type": "code",
   "execution_count": null,
   "id": "da52cc29-788b-410f-a2b8-ffc9ff22258a",
   "metadata": {},
   "outputs": [],
   "source": [
    "img_processor = ImageTransform(full_image_size, data_mean, data_std)\n",
    "\n",
    "dataset_kwargs = {\n",
    "    \"root\": \"../datasets/NSCLC-Radiogenomics/data\",\n",
    "    \"extra\": \"../datasets/NSCLC-Radiogenomics/extra\"\n",
    "}\n",
    "\n",
    "train_dataset = NsclcRadiogenomicsEvalSmokers(\n",
    "    split=\"TRAIN\",\n",
    "    transform=img_processor,\n",
    "    **dataset_kwargs\n",
    ")\n",
    "val_dataset = NsclcRadiogenomicsEvalSmokers(\n",
    "    split=\"VAL\",\n",
    "    transform=img_processor,\n",
    "    **dataset_kwargs\n",
    ")\n",
    "train_dataloader = get_dataloader(train_dataset, is_infinite=True)\n",
    "val_dataloader = get_dataloader(val_dataset)"
   ]
  },
  {
   "cell_type": "code",
   "execution_count": null,
   "id": "f9439884-2aec-4c9c-a8da-e924f13a5dcb",
   "metadata": {},
   "outputs": [],
   "source": [
    "im, ta = train_dataset[0]\n",
    "with torch.no_grad():\n",
    "    outputs = feature_model(im.view(1,1,504,504).to(device))\n",
    "_, _, embed_dim = outputs[0][0].shape\n",
    "print(\"Embedding dimension:\", embed_dim)"
   ]
  },
  {
   "cell_type": "code",
   "execution_count": null,
   "id": "41cd836c-f7dd-4e6e-8eca-966b01fbba17",
   "metadata": {},
   "outputs": [],
   "source": [
    "model = DinoClassifier(\n",
    "    feature_model,\n",
    "    embed_dim=embed_dim*4,\n",
    "    hidden_dim=4096,\n",
    "    num_labels=2,\n",
    "    device=device\n",
    ")"
   ]
  },
  {
   "cell_type": "code",
   "execution_count": null,
   "id": "81c71906-d9e1-48e1-a32e-ce89cf254fd8",
   "metadata": {},
   "outputs": [],
   "source": [
    "counts = [0, 0]\n",
    "for index in range(len(train_dataset)):\n",
    "    target = train_dataset.get_target(index)\n",
    "    counts[target] += 1\n",
    "cross_entropy_weights = torch.tensor([len(train_dataset)/x for x in counts]).to(device)\n",
    "print(\"Adjusted weights for class imbalance:\", cross_entropy_weights)"
   ]
  },
  {
   "cell_type": "code",
   "execution_count": null,
   "id": "d539b841-fbd6-4d43-8859-5f7033a46693",
   "metadata": {},
   "outputs": [],
   "source": [
    "eval_interval = 1_000\n",
    "max_iter = 5_000\n",
    "\n",
    "criterion = torch.nn.CrossEntropyLoss(weight=cross_entropy_weights)\n",
    "optimizer = torch.optim.SGD(\n",
    "    model.parameters(), momentum=0.9, weight_decay=0\n",
    ")\n",
    "scheduler = torch.optim.lr_scheduler.CosineAnnealingLR(optimizer, max_iter, eta_min=0)"
   ]
  },
  {
   "cell_type": "code",
   "execution_count": null,
   "id": "10e1673a-8cc5-4510-a773-a55ad9c0977b",
   "metadata": {},
   "outputs": [],
   "source": [
    "iteration = 0\n",
    "while iteration < max_iter:\n",
    "    model.train()\n",
    "    running_loss = 0.0\n",
    "    alpha = 0.99\n",
    "    train_tqdm = tqdm(range(eval_interval), desc=f\"Training\", leave=False)\n",
    "    for i in train_tqdm:\n",
    "        inputs, targets = next(train_dataloader)\n",
    "        optimizer.zero_grad()\n",
    "        outputs = model(inputs.to(device))\n",
    "        loss = criterion(outputs, targets.to(device))\n",
    "        loss.backward()\n",
    "        torch.nn.utils.clip_grad_norm_(model.parameters(), args.clip)\n",
    "        optimizer.step()\n",
    "        scheduler.step()\n",
    "        \n",
    "        running_loss = alpha * running_loss + (1 - alpha) * loss.item()\n",
    "        train_tqdm.set_postfix({\"Loss\": running_loss})\n",
    "        \n",
    "        iteration += 1\n",
    "    \n",
    "    model.eval()\n",
    "    accuracy_sum = 0.0\n",
    "    with torch.no_grad():\n",
    "        for inputs, targets in tqdm(val_dataloader, desc=f\"Evaluation\", leave=False):\n",
    "            outputs = model(inputs.to(device))\n",
    "            accuracy_sum += multiclass_accuracy_logits(outputs, targets)\n",
    "    \n",
    "    avg_accuracy = accuracy_sum / len(val_dataloader)\n",
    "    \n",
    "    print(f\"Iteration: {iteration}, Training Loss: {running_loss:.4f}, Validation Accuracy: {avg_accuracy:.4f}\")\n"
   ]
  },
  {
   "cell_type": "code",
   "execution_count": null,
   "id": "d5dac4d8-bb96-4842-b0b4-5cc4f5665171",
   "metadata": {},
   "outputs": [],
   "source": [
    "from sklearn.metrics import roc_curve, auc\n",
    "from sklearn.preprocessing import label_binarize\n",
    "from sklearn.metrics import roc_auc_score\n",
    "import matplotlib.pyplot as plt\n",
    "\n",
    "predictions = []\n",
    "labels = []\n",
    "with torch.no_grad():\n",
    "    for inputs, targets in tqdm(val_dataloader):\n",
    "        outputs = model(inputs.to(device))\n",
    "        predictions += [x for x in outputs.detach().cpu()]\n",
    "        labels += [x for x in targets]\n",
    "\n",
    "classes = [0, 1]\n",
    "class_labels = [\"Nonsmoker\", \"Current or Former\"]\n",
    "\n",
    "y_pred = torch.stack(predictions).numpy()\n",
    "y_true = torch.stack(labels).numpy()\n",
    "y_true_binarized = label_binarize(y_true, classes=[0, 1, -1])\n",
    "\n",
    "fpr = dict()\n",
    "tpr = dict()\n",
    "roc_auc = dict()\n",
    "for i in classes:\n",
    "    fpr[i], tpr[i], _ = roc_curve(y_true_binarized[:, i], y_pred[:, i])\n",
    "    roc_auc[i] = auc(fpr[i], tpr[i])\n",
    "\n",
    "plt.figure()\n",
    "colors = ['red', 'blue']\n",
    "\n",
    "for i, color in zip(classes, colors):\n",
    "    plt.plot(fpr[i], tpr[i], color=color, lw=2,\n",
    "             label=f'{class_labels[i]} (Area = {roc_auc[i]:0.2f})')\n",
    "\n",
    "plt.plot([0, 1], [0, 1], 'k--', lw=2)\n",
    "plt.xlim([0.0, 1.0])\n",
    "plt.ylim([0.0, 1.05])\n",
    "plt.xlabel('False Positive Rate')\n",
    "plt.ylabel('True Positive Rate')\n",
    "plt.legend(loc=\"lower right\")\n",
    "plt.show()"
   ]
  },
  {
   "cell_type": "code",
   "execution_count": null,
   "id": "a281b481-d458-492d-8a65-6122d2aec8d1",
   "metadata": {},
   "outputs": [],
   "source": []
  }
 ],
 "metadata": {
  "kernelspec": {
   "display_name": "Python 3 (ipykernel)",
   "language": "python",
   "name": "python3"
  },
  "language_info": {
   "codemirror_mode": {
    "name": "ipython",
    "version": 3
   },
   "file_extension": ".py",
   "mimetype": "text/x-python",
   "name": "python",
   "nbconvert_exporter": "python",
   "pygments_lexer": "ipython3",
   "version": "3.9.7"
  }
 },
 "nbformat": 4,
 "nbformat_minor": 5
}
