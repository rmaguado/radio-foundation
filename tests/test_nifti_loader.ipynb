{
 "cells": [
  {
   "cell_type": "code",
   "execution_count": 1,
   "metadata": {},
   "outputs": [],
   "source": [
    "import sys\n",
    "\n",
    "sys.path.append(\"..\")\n",
    "\n",
    "from omegaconf import OmegaConf\n",
    "import torch\n",
    "\n",
    "from dinov2.configs import dinov2_default_config\n",
    "from dinov2.train.setup import setup_dataloader"
   ]
  },
  {
   "cell_type": "code",
   "execution_count": 4,
   "metadata": {},
   "outputs": [],
   "source": [
    "config_file = \"~/radio-foundation/configs/vitb.yaml\"\n",
    "default_cfg = OmegaConf.create(dinov2_default_config)\n",
    "cfg = OmegaConf.load(config_file)\n",
    "cfg = OmegaConf.merge(default_cfg, cfg, OmegaConf.from_cli())"
   ]
  },
  {
   "cell_type": "code",
   "execution_count": null,
   "metadata": {},
   "outputs": [],
   "source": [
    "dataloader = setup_dataloader(cfg, torch.half, use_full_image=False)\n",
    "get_iter = iter(dataloader)\n",
    "example_data = next(iterable_dataloader)"
   ]
  },
  {
   "cell_type": "code",
   "execution_count": null,
   "metadata": {},
   "outputs": [],
   "source": []
  }
 ],
 "metadata": {
  "kernelspec": {
   "display_name": "dino2t24",
   "language": "python",
   "name": "python3"
  },
  "language_info": {
   "codemirror_mode": {
    "name": "ipython",
    "version": 3
   },
   "file_extension": ".py",
   "mimetype": "text/x-python",
   "name": "python",
   "nbconvert_exporter": "python",
   "pygments_lexer": "ipython3",
   "version": "3.10.15"
  }
 },
 "nbformat": 4,
 "nbformat_minor": 2
}
