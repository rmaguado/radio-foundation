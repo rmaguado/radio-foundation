{
 "cells": [
  {
   "cell_type": "code",
   "execution_count": null,
   "id": "45fb121a-b1df-4b5b-a34f-fd3ac544ab5c",
   "metadata": {},
   "outputs": [],
   "source": [
    "import warnings\n",
    "warnings.filterwarnings('ignore')\n",
    "\n",
    "import sys\n",
    "sys.path.append(\"..\")\n",
    "\n",
    "import torch\n",
    "from tqdm.notebook import tqdm\n",
    "import matplotlib.pyplot as plt\n",
    "\n",
    "import dinov2.utils.utils as dinov2_utils\n",
    "from utils import (\n",
    "    load_model, get_norm, get_dataloader, get_accuracy_logits,\n",
    "    ImageTransform, DinoClassifier\n",
    ")\n",
    "from extended_datasets import NsclcRadiomicsEvalSex"
   ]
  },
  {
   "cell_type": "code",
   "execution_count": null,
   "id": "4fb1deb4-31bc-494c-ae97-f41a8c501ca7",
   "metadata": {},
   "outputs": [],
   "source": [
    "path_to_run = \"../runs/ctc_104x5x4/\"\n",
    "checkpoint_name = \"training_399999\"\n",
    "device = torch.device(\"cuda:0\")\n",
    "\n",
    "feature_model, config = load_model(path_to_run, checkpoint_name, device)\n",
    "model = DinoClassifier(\n",
    "    feature_model,\n",
    "    embed_dim=384*4,\n",
    "    hidden_dim=2048,\n",
    "    num_labels=2,\n",
    "    device=device\n",
    ")"
   ]
  },
  {
   "cell_type": "code",
   "execution_count": null,
   "id": "da52cc29-788b-410f-a2b8-ffc9ff22258a",
   "metadata": {},
   "outputs": [],
   "source": [
    "mean_, std_ = get_norm(config)\n",
    "img_processor = ImageTransform(224, mean_, std_)\n",
    "\n",
    "nsclc_radiomics_kwargs = {\n",
    "    \"root\": \"../datasets/NSCLC-Radiomics/data\",\n",
    "    \"extra\": \"../datasets/NSCLC-Radiomics/extra\"\n",
    "}\n",
    "\n",
    "train_dataset = NsclcRadiomicsEvalSex(\n",
    "    split=\"TRAIN\",\n",
    "    transform=img_processor,\n",
    "    **nsclc_radiomics_kwargs\n",
    ")\n",
    "val_dataset = NsclcRadiomicsEvalSex(\n",
    "    split=\"VAL\",\n",
    "    transform=img_processor,\n",
    "    **nsclc_radiomics_kwargs\n",
    ")\n",
    "train_dataloader = get_dataloader(train_dataset, is_infinite=True)\n",
    "val_dataloader = get_dataloader(val_dataset)"
   ]
  },
  {
   "cell_type": "code",
   "execution_count": null,
   "id": "b1896276-fe09-43b7-b40e-43c401ba805c",
   "metadata": {},
   "outputs": [],
   "source": [
    "im, ta = train_dataset[0]\n",
    "output = model(im.view(1,1,224, 224).to(device))\n",
    "output"
   ]
  },
  {
   "cell_type": "code",
   "execution_count": null,
   "id": "81c71906-d9e1-48e1-a32e-ce89cf254fd8",
   "metadata": {},
   "outputs": [],
   "source": [
    "counts = [0, 0]\n",
    "for index in range(len(train_dataset)):\n",
    "    target = train_dataset.get_target(index)\n",
    "    counts[target] += 1\n",
    "cross_entropy_weights = torch.tensor([len(train_dataset)/x for x in counts]).to(device)\n",
    "print(\"Adjusted weights for class imbalance:\", cross_entropy_weights)"
   ]
  },
  {
   "cell_type": "code",
   "execution_count": null,
   "id": "d539b841-fbd6-4d43-8859-5f7033a46693",
   "metadata": {},
   "outputs": [],
   "source": [
    "eval_interval = 10_000\n",
    "max_iter = 100_000\n",
    "\n",
    "criterion = torch.nn.CrossEntropyLoss(weight=cross_entropy_weights)\n",
    "optimizer = torch.optim.SGD(\n",
    "    model.parameters(), momentum=0.9, weight_decay=0\n",
    ")\n",
    "scheduler = torch.optim.lr_scheduler.CosineAnnealingLR(optimizer, max_iter, eta_min=0)"
   ]
  },
  {
   "cell_type": "code",
   "execution_count": null,
   "id": "10e1673a-8cc5-4510-a773-a55ad9c0977b",
   "metadata": {},
   "outputs": [],
   "source": [
    "iteration = 0\n",
    "train_losses = []\n",
    "val_losses = []\n",
    "val_accuracies = []\n",
    "\n",
    "while iteration < max_iter:\n",
    "    \n",
    "    model.train()\n",
    "    train_loss_sum = 0.0\n",
    "    train_tqdm = tqdm(range(1, eval_interval+1), desc=f\"Training (Iter {iteration}/{max_iter}).\", leave=False)\n",
    "    for i in train_tqdm:\n",
    "        inputs, targets = next(train_dataloader)\n",
    "        optimizer.zero_grad()\n",
    "        outputs = model(inputs.to(device))\n",
    "        loss = criterion(outputs, targets.to(device))\n",
    "        loss.backward()\n",
    "        optimizer.step()\n",
    "        scheduler.step()\n",
    "        \n",
    "        train_loss_sum += loss.item()\n",
    "        iteration += 1\n",
    "        \n",
    "        train_tqdm.set_postfix({\"Loss\": train_loss_sum / i})\n",
    "        \n",
    "        if iteration >= max_iter:\n",
    "            break\n",
    "\n",
    "    avg_train_loss = train_loss_sum / eval_interval\n",
    "    train_losses.append(avg_train_loss)\n",
    "    \n",
    "    model.eval()\n",
    "    val_loss_sum = 0.0\n",
    "    val_accuracy_sum = 0.0\n",
    "    \n",
    "    with torch.no_grad():\n",
    "        for inputs, targets in tqdm(val_dataloader, leave=False):\n",
    "            outputs = model(inputs.to(device))\n",
    "            loss = criterion(outputs, targets.to(device))\n",
    "            val_loss_sum += loss.item()\n",
    "            \n",
    "            val_accuracy_sum += get_accuracy_logits(outputs, targets)\n",
    "            \n",
    "    avg_val_loss = val_loss_sum / len(val_dataloader)\n",
    "    avg_val_accuracy = val_accuracy_sum / len(val_dataloader)\n",
    "    val_losses.append(avg_val_loss)\n",
    "    val_accuracies.append(avg_val_accuracy)\n",
    "            \n",
    "    print(f\"Iteration: {iteration}, Training Loss: {avg_train_loss:.4f}, Validation Loss: {avg_val_loss:.4f}, Validation Accuracy: {avg_val_accuracy:.4f}\")\n"
   ]
  },
  {
   "cell_type": "code",
   "execution_count": null,
   "id": "d5dac4d8-bb96-4842-b0b4-5cc4f5665171",
   "metadata": {},
   "outputs": [],
   "source": []
  }
 ],
 "metadata": {
  "kernelspec": {
   "display_name": "Python 3 (ipykernel)",
   "language": "python",
   "name": "python3"
  },
  "language_info": {
   "codemirror_mode": {
    "name": "ipython",
    "version": 3
   },
   "file_extension": ".py",
   "mimetype": "text/x-python",
   "name": "python",
   "nbconvert_exporter": "python",
   "pygments_lexer": "ipython3",
   "version": "3.9.7"
  }
 },
 "nbformat": 4,
 "nbformat_minor": 5
}
