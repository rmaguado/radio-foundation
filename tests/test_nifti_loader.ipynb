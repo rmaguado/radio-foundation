{
 "cells": [
  {
   "cell_type": "code",
   "execution_count": 1,
   "metadata": {},
   "outputs": [],
   "source": [
    "import sys\n",
    "\n",
    "# append path ..\n",
    "\n",
    "import nibabel as nib\n",
    "\n",
    "import pytest\n",
    "from omegaconf import OmegaConf\n",
    "import torch\n",
    "\n",
    "from dinov2.configs import dinov2_default_config\n",
    "from dinov2.train.setup import setup_dataloader\n",
    "\n",
    "# import sqlite3"
   ]
  },
  {
   "cell_type": "code",
   "execution_count": null,
   "metadata": {},
   "outputs": [],
   "source": [
    "db_path = \"\"\n",
    "conn = sqlite3.connect(db_path)\n",
    "cursor = conn.cursor()"
   ]
  },
  {
   "cell_type": "code",
   "execution_count": 2,
   "metadata": {},
   "outputs": [],
   "source": [
    "nifti_path = \"/home/48078029W/data/datasets-nodicom/CT-RATE/train/train_16/train_16_a/train_16_a_1.nii.gz\"\n",
    "\n",
    "nifti_file = nib.load(nifti_path)"
   ]
  },
  {
   "cell_type": "code",
   "execution_count": 3,
   "metadata": {},
   "outputs": [
    {
     "name": "stdout",
     "output_type": "stream",
     "text": [
      "(1024, 1024, 218)\n",
      "(np.float32(1.0), np.float32(1.0), np.float32(1.0))\n"
     ]
    }
   ],
   "source": [
    "header = nifti_file.header\n",
    "\n",
    "shape = header.get_data_shape()\n",
    "voxel_sizes = header.get_zooms()\n",
    "\n",
    "print(shape)\n",
    "print(voxel_sizes)"
   ]
  },
  {
   "cell_type": "code",
   "execution_count": 5,
   "metadata": {},
   "outputs": [
    {
     "name": "stdout",
     "output_type": "stream",
     "text": [
      "1.0 0.0\n"
     ]
    }
   ],
   "source": [
    "slope = nifti_file.dataobj.slope\n",
    "intercept = nifti_file.dataobj.inter\n",
    "print(slope, intercept)"
   ]
  },
  {
   "cell_type": "code",
   "execution_count": null,
   "metadata": {},
   "outputs": [],
   "source": [
    "def prep_cfg():\n",
    "    config_file = \"configs/tests/vitb_cnn_depth.yaml\"\n",
    "    default_cfg = OmegaConf.create(dinov2_default_config)\n",
    "    cfg = OmegaConf.load(config_file)\n",
    "    cfg = OmegaConf.merge(default_cfg, cfg, OmegaConf.from_cli())\n",
    "    return cfg\n",
    "\n",
    "\n",
    "def test_loader(prep_cfg):\n",
    "    dataloader = setup_dataloader(cfg, torch.half, use_full_image=False)\n",
    "    get_iter = iter(dataloader)\n",
    "    example_data = next(iterable_dataloader)"
   ]
  },
  {
   "cell_type": "code",
   "execution_count": null,
   "metadata": {},
   "outputs": [],
   "source": []
  }
 ],
 "metadata": {
  "kernelspec": {
   "display_name": "dino2t24",
   "language": "python",
   "name": "python3"
  },
  "language_info": {
   "codemirror_mode": {
    "name": "ipython",
    "version": 3
   },
   "file_extension": ".py",
   "mimetype": "text/x-python",
   "name": "python",
   "nbconvert_exporter": "python",
   "pygments_lexer": "ipython3",
   "version": "3.10.15"
  }
 },
 "nbformat": 4,
 "nbformat_minor": 2
}
