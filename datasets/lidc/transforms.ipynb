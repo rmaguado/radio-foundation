{
 "cells": [
  {
   "cell_type": "code",
   "execution_count": null,
   "id": "d637f269-c239-46e2-a642-0960576625a9",
   "metadata": {},
   "outputs": [],
   "source": [
    "import sys\n",
    "sys.path.append(\"../..\")"
   ]
  },
  {
   "cell_type": "code",
   "execution_count": null,
   "id": "a555fffa-33b0-477d-92c2-461692e3a2f9",
   "metadata": {},
   "outputs": [],
   "source": [
    "import os\n",
    "import json\n",
    "import numpy as np\n",
    "import torch\n",
    "import torchvision\n",
    "import random\n",
    "from PIL import Image\n",
    "import matplotlib.pyplot as plt\n",
    "\n",
    "from tqdm import tqdm\n",
    "import time"
   ]
  },
  {
   "cell_type": "code",
   "execution_count": null,
   "id": "da80d4c1-1f8d-4183-8ca1-2fb9572b9bc8",
   "metadata": {},
   "outputs": [],
   "source": [
    "root = \"./datasets/lidc/LIDC_IDRI/test\"\n",
    "scans = os.listdir(root)\n",
    "\n",
    "def get_image(scan_name):\n",
    "    global root\n",
    "    path_to_image = os.path.join(root, scan_name, \"image.npy\")\n",
    "    return np.load(path_to_image).astype(np.float32)\n",
    "\n",
    "def view_image(image):\n",
    "    plt.imshow(np.array(image), cmap=\"gray\")\n",
    "    plt.colorbar()\n",
    "    plt.show()\n"
   ]
  },
  {
   "cell_type": "code",
   "execution_count": null,
   "id": "5e367f7c-793a-4eee-b7bc-c6ed54738026",
   "metadata": {},
   "outputs": [],
   "source": [
    "from dinov2.data import transforms\n",
    "from dinov2.data.augmentations import DataAugmentationDINO\n",
    "\n",
    "class CfgCrops:\n",
    "    def __init__(self):\n",
    "        self.global_crops_scale = (0.32, 1.0)\n",
    "        self.local_crops_number = 8\n",
    "        self.local_crops_scale = (0.05, 0.32)\n",
    "        self.global_crops_size = 224\n",
    "        self.local_crops_size = 96\n",
    "class CfgNorm:\n",
    "    def __init__(self):\n",
    "        self.mean = 0.124\n",
    "        self.std = 0.121\n",
    "class CfgAugments:\n",
    "    def __init__(self):\n",
    "        self.crops = CfgCrops()\n",
    "        self.norm = CfgNorm()\n",
    "        self.global_1 = [\"rotation_0.8_90\", \"crop\", \"contrast_0.8_0.4\", \"brightness_0.8_0.4\", \"blur_1\"]\n",
    "        self.global_2 = [\"crop\", \"contrast_0.8_0.4\", \"brightness_0.8_0.4\", \"solarize_0.2_0.5_1\", \"noise_0.5_0.02_1\", \"blur_0.1\"]\n",
    "        self.local = [\"crop\", \"contrast_0.8_0.4\", \"brightness_0.8_0.4\", \"blur_0.5\"]\n",
    "\n",
    "augments = DataAugmentationDINO(CfgAugments())"
   ]
  },
  {
   "cell_type": "code",
   "execution_count": null,
   "id": "d10dadf3-6687-497d-90c1-f67fd1cf3565",
   "metadata": {},
   "outputs": [],
   "source": [
    "loaded_image = get_image(scans[0])[0]\n",
    "loaded_image.dtype"
   ]
  },
  {
   "cell_type": "code",
   "execution_count": null,
   "id": "d51164c8-e08c-4638-84b5-776072e356a1",
   "metadata": {},
   "outputs": [],
   "source": [
    "image = Image.fromarray(loaded_image, 'F')\n",
    "view_image(image)"
   ]
  },
  {
   "cell_type": "code",
   "execution_count": null,
   "id": "520e9db0-de37-437d-b413-c8849679b0a5",
   "metadata": {},
   "outputs": [],
   "source": [
    "global_crop_1 = augments.global_transfo1(image)\n",
    "global_crop_2 = augments.global_transfo2(image)\n",
    "local_crops = [augments.local_transfo(image) for _ in range(augments.local_crops_number)]"
   ]
  },
  {
   "cell_type": "code",
   "execution_count": null,
   "id": "f125b1f8-0790-44b8-a625-909284696a6a",
   "metadata": {},
   "outputs": [],
   "source": [
    "view_image(global_crop_1[0])"
   ]
  },
  {
   "cell_type": "code",
   "execution_count": null,
   "id": "7e6cdbcd-f9c0-4dd8-8ca8-75204c21e285",
   "metadata": {},
   "outputs": [],
   "source": [
    "view_image(global_crop_2[0])"
   ]
  },
  {
   "cell_type": "code",
   "execution_count": null,
   "id": "16015d78-ab72-4908-9cfa-183f59ae3cca",
   "metadata": {},
   "outputs": [],
   "source": [
    "view_image(local_crops[1][0])"
   ]
  },
  {
   "cell_type": "code",
   "execution_count": null,
   "id": "b5ce0836-c80b-4ccd-bfe8-55b13c0e7005",
   "metadata": {},
   "outputs": [],
   "source": [
    "class RandomGaussianBlur:\n",
    "    def __init__(self, p):\n",
    "        self.p = float(p)\n",
    "        self.transform = torchvision.transforms.GaussianBlur(kernel_size=9, sigma=(0.1, 2.0))\n",
    "    \n",
    "    def __call__(self, img):\n",
    "        if random.random() < self.p:\n",
    "            return self.transform(img)\n",
    "        return img\n",
    "blur = RandomGaussianBlur(1.0)\n"
   ]
  },
  {
   "cell_type": "code",
   "execution_count": null,
   "id": "43636962-b0c3-4cda-bc22-d08fa47cb2a3",
   "metadata": {},
   "outputs": [],
   "source": [
    "random.random()"
   ]
  },
  {
   "cell_type": "code",
   "execution_count": null,
   "id": "ebcc5aeb-69e5-4318-9f99-577bc8277352",
   "metadata": {},
   "outputs": [],
   "source": [
    "local_crops[0][0].shape"
   ]
  },
  {
   "cell_type": "code",
   "execution_count": null,
   "id": "b0ed7836-42c1-41a8-a440-1cafaaf26444",
   "metadata": {},
   "outputs": [],
   "source": [
    "blurred_image = blur(local_crops[0])\n",
    "view_image(blurred_image[0])"
   ]
  },
  {
   "cell_type": "code",
   "execution_count": null,
   "id": "1981e465-f11e-438b-9fee-e69c48c99bc6",
   "metadata": {},
   "outputs": [],
   "source": [
    "torch.equal(blurred_image, local_crops[0][0])"
   ]
  },
  {
   "cell_type": "code",
   "execution_count": null,
   "id": "00df9016-2f3b-4e63-a474-4cf15c07c0c8",
   "metadata": {},
   "outputs": [],
   "source": [
    "local_crops[0]"
   ]
  },
  {
   "cell_type": "code",
   "execution_count": null,
   "id": "3e7690e7-d35a-41ac-a66b-f3f0ceb819f4",
   "metadata": {},
   "outputs": [],
   "source": [
    "blur(local_crops[0][0])"
   ]
  },
  {
   "cell_type": "code",
   "execution_count": null,
   "id": "a9e30efd-4fae-44ae-8c48-61fae7403957",
   "metadata": {},
   "outputs": [],
   "source": []
  }
 ],
 "metadata": {
  "kernelspec": {
   "display_name": "Python 3 (ipykernel)",
   "language": "python",
   "name": "python3"
  },
  "language_info": {
   "codemirror_mode": {
    "name": "ipython",
    "version": 3
   },
   "file_extension": ".py",
   "mimetype": "text/x-python",
   "name": "python",
   "nbconvert_exporter": "python",
   "pygments_lexer": "ipython3",
   "version": "3.9.7"
  }
 },
 "nbformat": 4,
 "nbformat_minor": 5
}
